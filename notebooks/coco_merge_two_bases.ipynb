{
 "cells": [
  {
   "cell_type": "code",
   "execution_count": 1,
   "id": "c1cbd859",
   "metadata": {},
   "outputs": [],
   "source": [
    "import json\n",
    "import os\n",
    "import shutil\n",
    "from pathlib import Path\n",
    "from collections import defaultdict\n",
    "from tqdm import tqdm"
   ]
  },
  {
   "cell_type": "code",
   "execution_count": 3,
   "id": "6bb000f5",
   "metadata": {},
   "outputs": [],
   "source": [
    "# Paths to source datasets\n",
    "dataset1_images = Path(\"../data/training/coco/images\")\n",
    "dataset2_images = Path(\"../data/training/fish\")  # same structure\n",
    "\n",
    "dataset_1_json = Path(\"../data/training/coco/annotations.json\")\n",
    "dataset_2_json = Path(\"../data/training/coco/labels_fish-maze_2025-04-04-07-41-19.json\")\n",
    "\n",
    "output_dir = Path(\"../data/training/coco/merged_output\")\n",
    "output_images_dir = output_dir / \"images\"\n",
    "output_json_path = output_dir / \"annotations.json\"\n",
    "\n",
    "# Ensure output directory exists\n",
    "output_images_dir.mkdir(parents=True, exist_ok=True)"
   ]
  },
  {
   "cell_type": "code",
   "execution_count": 4,
   "id": "f55684d4",
   "metadata": {},
   "outputs": [],
   "source": [
    "# Load COCO JSONs\n",
    "def load_coco(json_path):\n",
    "    with open(json_path, 'r') as f:\n",
    "        return json.load(f)"
   ]
  },
  {
   "cell_type": "code",
   "execution_count": 5,
   "id": "89cacd18",
   "metadata": {},
   "outputs": [],
   "source": [
    "coco1 = load_coco(dataset_1_json)\n",
    "coco2 = load_coco(dataset_2_json)"
   ]
  },
  {
   "cell_type": "code",
   "execution_count": 8,
   "id": "39e2568c",
   "metadata": {},
   "outputs": [],
   "source": [
    "# Initialize merged dataset\n",
    "merged = {\n",
    "    \"images\": [],\n",
    "    \"annotations\": [],\n",
    "    \"categories\": coco1[\"categories\"],  # assuming both have same categories\n",
    "}\n",
    "\n",
    "# ID tracking\n",
    "next_image_id = 1\n",
    "next_annotation_id = 1\n",
    "used_filenames = set()\n",
    "\n",
    "# Mapping from old image_id to new image_id\n",
    "image_id_map = {}\n",
    "\n",
    "def process_dataset(coco_data, image_root):\n",
    "    global next_image_id, next_annotation_id\n",
    "\n",
    "    for img in tqdm(coco_data[\"images\"], desc=f\"Processing {image_root.name}\"):\n",
    "        original_name = img[\"file_name\"]\n",
    "        new_name = original_name\n",
    "        stem = Path(original_name).stem\n",
    "        suffix = Path(original_name).suffix\n",
    "\n",
    "        # Resolve filename conflict\n",
    "        counter = 1\n",
    "        while new_name in used_filenames:\n",
    "            new_name = f\"{stem}_{counter}{suffix}\"\n",
    "            counter += 1\n",
    "\n",
    "        used_filenames.add(new_name)\n",
    "        new_img_id = next_image_id\n",
    "        next_image_id += 1\n",
    "\n",
    "        # Copy image to output dir\n",
    "        src_path = image_root / original_name\n",
    "        dst_path = output_images_dir / new_name\n",
    "        shutil.copy2(src_path, dst_path)\n",
    "\n",
    "        # Add updated image entry\n",
    "        merged[\"images\"].append({\n",
    "            \"id\": new_img_id,\n",
    "            \"file_name\": new_name,\n",
    "            \"width\": img[\"width\"],\n",
    "            \"height\": img[\"height\"],\n",
    "        })\n",
    "\n",
    "        image_id_map[img[\"id\"]] = new_img_id\n",
    "\n",
    "    for ann in coco_data[\"annotations\"]:\n",
    "        new_ann = ann.copy()\n",
    "        new_ann[\"id\"] = next_annotation_id\n",
    "        new_ann[\"image_id\"] = image_id_map[ann[\"image_id\"]]\n",
    "        next_annotation_id += 1\n",
    "        merged[\"annotations\"].append(new_ann)"
   ]
  },
  {
   "cell_type": "code",
   "execution_count": 9,
   "id": "aee3b10e",
   "metadata": {},
   "outputs": [
    {
     "name": "stderr",
     "output_type": "stream",
     "text": [
      "Processing images: 100%|██████████| 6104/6104 [00:21<00:00, 277.75it/s]\n",
      "Processing fish: 100%|██████████| 73/73 [00:00<00:00, 260.29it/s]\n"
     ]
    }
   ],
   "source": [
    "process_dataset(coco1, dataset1_images)\n",
    "process_dataset(coco2, dataset2_images)"
   ]
  },
  {
   "cell_type": "code",
   "execution_count": 10,
   "id": "17d463b0",
   "metadata": {},
   "outputs": [
    {
     "name": "stdout",
     "output_type": "stream",
     "text": [
      "\n",
      "✅ Merged dataset saved to ..\\data\\training\\coco\\merged_output\n"
     ]
    }
   ],
   "source": [
    "# Save merged JSON\n",
    "with open(output_json_path, 'w') as f:\n",
    "    json.dump(merged, f, indent=2)\n",
    "\n",
    "print(f\"\\n✅ Merged dataset saved to {output_dir}\")"
   ]
  }
 ],
 "metadata": {
  "kernelspec": {
   "display_name": "venv",
   "language": "python",
   "name": "python3"
  },
  "language_info": {
   "codemirror_mode": {
    "name": "ipython",
    "version": 3
   },
   "file_extension": ".py",
   "mimetype": "text/x-python",
   "name": "python",
   "nbconvert_exporter": "python",
   "pygments_lexer": "ipython3",
   "version": "3.10.4"
  }
 },
 "nbformat": 4,
 "nbformat_minor": 5
}
